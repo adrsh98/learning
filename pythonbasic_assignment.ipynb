{
  "nbformat": 4,
  "nbformat_minor": 0,
  "metadata": {
    "colab": {
      "provenance": [],
      "authorship_tag": "ABX9TyOypzsn7ZsC4BMmuHyU7czA",
      "include_colab_link": true
    },
    "kernelspec": {
      "name": "python3",
      "display_name": "Python 3"
    },
    "language_info": {
      "name": "python"
    }
  },
  "cells": [
    {
      "cell_type": "markdown",
      "metadata": {
        "id": "view-in-github",
        "colab_type": "text"
      },
      "source": [
        "<a href=\"https://colab.research.google.com/github/adrsh98/learning/blob/main/pythonbasic_assignment.ipynb\" target=\"_parent\"><img src=\"https://colab.research.google.com/assets/colab-badge.svg\" alt=\"Open In Colab\"/></a>"
      ]
    },
    {
      "cell_type": "code",
      "source": [
        "#creating bank account with withdrawl,deposit and balance enquery"
      ],
      "metadata": {
        "id": "juw7aSUegl5s"
      },
      "execution_count": null,
      "outputs": []
    },
    {
      "cell_type": "code",
      "execution_count": null,
      "metadata": {
        "id": "VmyqXsTpOM6f"
      },
      "outputs": [],
      "source": [
        "class bank_account:\n",
        "    def __init__(self,account_number,account_name,initial_balance):\n",
        "        self.account_number=account_number\n",
        "        self.account_name=account_name\n",
        "        self.balance=initial_balance"
      ]
    },
    {
      "cell_type": "code",
      "source": [
        "def deposit(self,amount):\n",
        "    if amount > 0:\n",
        "        self.balance += amount\n",
        "        print(f\"Deposited ${amount}. New balance: ${self.balance}\")\n",
        "    else:\n",
        "        print(\"Invalid deposit amount. Amount must be greater than 0.\")\n"
      ],
      "metadata": {
        "id": "zCU0TbhNO5W0"
      },
      "execution_count": null,
      "outputs": []
    },
    {
      "cell_type": "code",
      "source": [
        "def withdraw(self,amount):\n",
        "    if amount > 0 and amount <= self.balance:\n",
        "        self.balance -= amount\n",
        "        print(f\"Withdrew ${amount}. New balance: ${self.balance}\")\n",
        "    else:\n",
        "        print(\"Invalid withdrawal amount or insufficient balance.\")"
      ],
      "metadata": {
        "id": "mCBgb9ILSHzm"
      },
      "execution_count": null,
      "outputs": []
    },
    {
      "cell_type": "code",
      "source": [
        "def balance_enquery(self):\n",
        "  print(f\"Account number: {self.account_number}\")\n",
        "  print(f\"Account name: {self.account_name}\")\n",
        "  print(f\"Balance: ${self.balance}\")"
      ],
      "metadata": {
        "id": "o2E0nBEqSQ_p"
      },
      "execution_count": null,
      "outputs": []
    },
    {
      "cell_type": "code",
      "source": [
        "def main():\n",
        "  account_number = input(\"Enter account number: \")\n",
        "  account_name = input(\"Enter account name: \")\n",
        "  initial_balance = float(input(\"Enter initial balance: \"))\n",
        "\n",
        "  return bank_account(account_number, account_name, initial_balance)\n"
      ],
      "metadata": {
        "id": "KUh13i41U0EA"
      },
      "execution_count": null,
      "outputs": []
    },
    {
      "cell_type": "code",
      "source": [
        "if __name__ == \"__main__\":\n",
        "  account = main()"
      ],
      "metadata": {
        "colab": {
          "base_uri": "https://localhost:8080/"
        },
        "id": "AqEXJ74EdBY2",
        "outputId": "8bd474b7-49b3-4075-b941-516604ee97fe"
      },
      "execution_count": null,
      "outputs": [
        {
          "name": "stdout",
          "output_type": "stream",
          "text": [
            "Enter account number: 1\n",
            "Enter account name: adarsh\n",
            "Enter initial balance: 500\n"
          ]
        }
      ]
    },
    {
      "cell_type": "code",
      "source": [
        "while True:\n",
        "  print(\"\\nBank Account Operations:\")\n",
        "  print(\"1.Deposit\")\n",
        "  print(\"2.withdraw\")\n",
        "  print(\"3.Balance Enquiry\")\n",
        "  print(\"4.Exit\")\n",
        "\n",
        "  choice = input(\"Enter your choice (1/2/3/4): \")\n",
        "\n",
        "  if choice == \"1\":\n",
        "    amount = float(input(\"Enter deposit amount: \"))\n",
        "    account.deposit(amount)\n",
        "  elif choice == \"2\":\n",
        "    amount = float(input(\"Enter withdrawal amount: \"))\n",
        "    account.withdraw(amount)\n",
        "  elif choice == \"3\":\n",
        "    account.balance_enquery()\n",
        "  elif choice == \"4\":\n",
        "    print(\"Exiting the program.\")\n",
        "    break\n",
        "  else:\n",
        "    print(\"Invalid choice. Please select a valid option.\")"
      ],
      "metadata": {
        "colab": {
          "base_uri": "https://localhost:8080/"
        },
        "id": "JnTxS8RRVA2C",
        "outputId": "b07f295d-e119-4a1a-856c-0510085a14ad"
      },
      "execution_count": null,
      "outputs": [
        {
          "output_type": "stream",
          "name": "stdout",
          "text": [
            "\n",
            "Bank Account Operations:\n",
            "1.Deposit\n",
            "2.withdraw\n",
            "3.Balance Enquiry\n",
            "4.Exit\n",
            "Enter your choice (1/2/3/4): 4\n",
            "Exiting the program.\n"
          ]
        }
      ]
    },
    {
      "cell_type": "code",
      "source": [
        "#weather data analyzer\n",
        "import datetime\n",
        "city_name: str = \"NEW YORK\"\n",
        "country_name: str = \"USA\"\n",
        "latitude:float = 40.7128\n",
        "longitude: float = -74.0060\n"
      ],
      "metadata": {
        "id": "0aUMqWE3W_Jb"
      },
      "execution_count": null,
      "outputs": []
    },
    {
      "cell_type": "code",
      "source": [
        "current_date: datetime.date=datetime.date.today()\n",
        "current_time: datetime.time=datetime.datetime.now().time()\n",
        "temperature: float = 22.5\n",
        "humidity: int=60\n",
        "weather_description: str=\"Sunny\"\n",
        "wind_speed: float=5.0"
      ],
      "metadata": {
        "id": "zbAHyBc4gsdb"
      },
      "execution_count": null,
      "outputs": []
    },
    {
      "cell_type": "code",
      "source": [
        "forecast_dates:list[datetime.date]=[datetime.date.today()+datetime.timedelta(days=1),datetime.date.today()+datetime.timedelta(days=2),datetime.date.today()+datetime.timedelta(days=3)]"
      ],
      "metadata": {
        "id": "1ijoDjqI1Ph2"
      },
      "execution_count": null,
      "outputs": []
    },
    {
      "cell_type": "code",
      "source": [
        "forecast_temperatures:list[float]=[25.0,28.0,30.0]"
      ],
      "metadata": {
        "id": "6jAwdV1q3j1v"
      },
      "execution_count": null,
      "outputs": []
    },
    {
      "cell_type": "code",
      "source": [
        "forecast_humidities:list[int]=[55,50,45]"
      ],
      "metadata": {
        "id": "qT2rOtndy9wf"
      },
      "execution_count": null,
      "outputs": []
    },
    {
      "cell_type": "code",
      "source": [
        "forecast_descriptions:list[str]=[\"partly cloudy\",\"sunny\",\"cloudy\"]"
      ],
      "metadata": {
        "id": "ccIY9o4z6MoA"
      },
      "execution_count": null,
      "outputs": []
    },
    {
      "cell_type": "code",
      "source": [
        "print(\"current weather conditions:\")\n",
        "print(f\"city: {city_name},{country_name}\")\n",
        "print(f\"date: {current_date}\")\n",
        "print(f\"time: {current_time}\")\n",
        "print(f\"temperature: {temperature}°C\")\n",
        "print(f\"humidity: {humidity}%\")\n",
        "print(f\"weather description: {weather_description}\")"
      ],
      "metadata": {
        "colab": {
          "base_uri": "https://localhost:8080/"
        },
        "id": "mXJiu7v86l8y",
        "outputId": "c19230d9-37b0-437a-b1fc-d1ddf2d96efd"
      },
      "execution_count": null,
      "outputs": [
        {
          "output_type": "stream",
          "name": "stdout",
          "text": [
            "current weather conditions:\n",
            "city: NEW YORK,USA\n",
            "date: 2024-11-23\n",
            "time: 14:24:09.650784\n",
            "temperature: 22.5°C\n",
            "humidity: 60%\n",
            "weather description: Sunny\n"
          ]
        }
      ]
    },
    {
      "cell_type": "code",
      "source": [
        "print(\"\\nweather forecast for the next 3 days:\")\n",
        "for i in range(len(forecast_dates)):\n",
        "  print(f\"\\ndate: {forecast_dates[i]}\")\n",
        "  print(f\"temperature: {forecast_temperatures[i]}°C\")\n",
        "  print(f\"humidity: {forecast_humidities[i]}%\")\n",
        "  print(f\"weather description: {forecast_descriptions[i]}\")"
      ],
      "metadata": {
        "colab": {
          "base_uri": "https://localhost:8080/"
        },
        "id": "PiiVxiMB7YXe",
        "outputId": "17a0d9e8-0677-4498-8997-437eb8938ffa"
      },
      "execution_count": null,
      "outputs": [
        {
          "output_type": "stream",
          "name": "stdout",
          "text": [
            "\n",
            "weather forecast for the next 3 days:\n",
            "\n",
            "date: 2024-11-24\n",
            "temperature: 25.0°C\n",
            "humidity: 55%\n",
            "weather description: partly cloudy\n",
            "\n",
            "date: 2024-11-25\n",
            "temperature: 28.0°C\n",
            "humidity: 50%\n",
            "weather description: sunny\n",
            "\n",
            "date: 2024-11-26\n",
            "temperature: 30.0°C\n",
            "humidity: 45%\n",
            "weather description: cloudy\n"
          ]
        }
      ]
    },
    {
      "cell_type": "code",
      "source": [],
      "metadata": {
        "id": "okU8n5-99X1k"
      },
      "execution_count": null,
      "outputs": []
    }
  ]
}