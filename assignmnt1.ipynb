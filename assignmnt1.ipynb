{
  "nbformat": 4,
  "nbformat_minor": 0,
  "metadata": {
    "colab": {
      "provenance": [],
      "authorship_tag": "ABX9TyNuQNkIiyVwpyiNDp4R6LD4",
      "include_colab_link": true
    },
    "kernelspec": {
      "name": "python3",
      "display_name": "Python 3"
    },
    "language_info": {
      "name": "python"
    }
  },
  "cells": [
    {
      "cell_type": "markdown",
      "metadata": {
        "id": "view-in-github",
        "colab_type": "text"
      },
      "source": [
        "<a href=\"https://colab.research.google.com/github/adrsh98/learning/blob/main/assignmnt1.ipynb\" target=\"_parent\"><img src=\"https://colab.research.google.com/assets/colab-badge.svg\" alt=\"Open In Colab\"/></a>"
      ]
    },
    {
      "cell_type": "code",
      "execution_count": null,
      "metadata": {
        "colab": {
          "base_uri": "https://localhost:8080/"
        },
        "id": "lRVUO2gtkdD6",
        "outputId": "73de1541-4f6a-479b-ffe9-4db7fbe42f72"
      },
      "outputs": [
        {
          "output_type": "stream",
          "name": "stdout",
          "text": [
            "area of the circle is 28.259999999999998\n"
          ]
        }
      ],
      "source": [
        "#QUESTION NO:1\n",
        "area=3.14*3*3\n",
        "print(\"area of the circle is\",end=\" \")\n",
        "print(area)\n"
      ]
    },
    {
      "cell_type": "code",
      "source": [
        "#QUESTION NO:3\n",
        "L1=[12,3,47,10]\n",
        "print(max(L1),\"is the largest number\")\n"
      ],
      "metadata": {
        "colab": {
          "base_uri": "https://localhost:8080/"
        },
        "id": "Txj15KFhmk_-",
        "outputId": "08230c30-2495-4674-a78f-085eed390736"
      },
      "execution_count": null,
      "outputs": [
        {
          "output_type": "stream",
          "name": "stdout",
          "text": [
            "47 is the largest number\n"
          ]
        }
      ]
    },
    {
      "cell_type": "code",
      "source": [
        "#QUESTION N0:5\n",
        "i=(10,20,33,46,55)\n",
        "for x in i:\n",
        "  if (x%5==0):\n",
        "    print(x,end=\" \")"
      ],
      "metadata": {
        "id": "qWx4-Pgdng4h",
        "colab": {
          "base_uri": "https://localhost:8080/"
        },
        "outputId": "c6ed77e2-a752-4935-989d-36fd44aa53d2"
      },
      "execution_count": null,
      "outputs": [
        {
          "output_type": "stream",
          "name": "stdout",
          "text": [
            "10 20 55 "
          ]
        }
      ]
    },
    {
      "cell_type": "code",
      "source": [
        "#QUESTION NO:9\n",
        "L=(34,12,7)\n",
        "print(max(L))"
      ],
      "metadata": {
        "id": "k8GBu_GaVcqK",
        "colab": {
          "base_uri": "https://localhost:8080/"
        },
        "outputId": "31e5d213-4465-4ea0-d4a5-e341becab7c8"
      },
      "execution_count": null,
      "outputs": [
        {
          "output_type": "stream",
          "name": "stdout",
          "text": [
            "34\n"
          ]
        }
      ]
    },
    {
      "cell_type": "code",
      "source": [
        "#QUESTION NO:6\n",
        "n=int(input('enter the number:'))\n",
        "\n",
        "if n>1:\n",
        "  for i in range(2,n):\n",
        "    if n%i==0:\n",
        "      print(n,'not a prime number')\n",
        "      break\n",
        "  else:\n",
        "    print(n,'is a prime number')\n",
        "else:\n",
        "   print(n,'is not a prime number')"
      ],
      "metadata": {
        "id": "UFrzhcVHa2ZO",
        "colab": {
          "base_uri": "https://localhost:8080/"
        },
        "outputId": "f7c01194-c7bf-436b-e126-3c891451b64f"
      },
      "execution_count": null,
      "outputs": [
        {
          "output_type": "stream",
          "name": "stdout",
          "text": [
            "enter the number:3\n",
            "3 is a prime number\n"
          ]
        }
      ]
    },
    {
      "cell_type": "code",
      "source": [
        "#QUESTION NO:7\n",
        "L1=[10,40,30,70]\n",
        "L1.reverse()\n",
        "print(L1)"
      ],
      "metadata": {
        "colab": {
          "base_uri": "https://localhost:8080/"
        },
        "id": "7h28Q1V-jPQs",
        "outputId": "581434c4-7744-4f97-ece8-cf9a56a5b606"
      },
      "execution_count": null,
      "outputs": [
        {
          "output_type": "stream",
          "name": "stdout",
          "text": [
            "[70, 30, 40, 10]\n"
          ]
        }
      ]
    },
    {
      "cell_type": "code",
      "source": [
        "#QUESTUION 4:\n",
        "previous_num=0\n",
        "for i in range(1,11):\n",
        "  j=i-1\n",
        "  sum_x=i+j\n",
        "\n",
        "  print('current number',i,'previous number',j,'sum:',sum_x)"
      ],
      "metadata": {
        "colab": {
          "base_uri": "https://localhost:8080/"
        },
        "id": "mQCncDFGlQgU",
        "outputId": "354fa46c-fc85-41c3-c7fc-31d52be483bf"
      },
      "execution_count": null,
      "outputs": [
        {
          "output_type": "stream",
          "name": "stdout",
          "text": [
            "current number 1 previous number 0 sum: 1\n",
            "current number 2 previous number 1 sum: 3\n",
            "current number 3 previous number 2 sum: 5\n",
            "current number 4 previous number 3 sum: 7\n",
            "current number 5 previous number 4 sum: 9\n",
            "current number 6 previous number 5 sum: 11\n",
            "current number 7 previous number 6 sum: 13\n",
            "current number 8 previous number 7 sum: 15\n",
            "current number 9 previous number 8 sum: 17\n",
            "current number 10 previous number 9 sum: 19\n"
          ]
        }
      ]
    },
    {
      "cell_type": "code",
      "source": [
        "#QUESTION 2\n",
        "\n",
        "name = input (\"enter the name\")\n",
        "Rollno = input (\"enter the roll no\")\n",
        "mark = input (\"enter the mark\")\n",
        "print(\"name:\",name)\n",
        "print(\"roll no:\",Rollno)\n",
        "print(\"mark:\",mark)\n"
      ],
      "metadata": {
        "id": "xgCvUZg8wiSG",
        "colab": {
          "base_uri": "https://localhost:8080/"
        },
        "outputId": "75ef734b-d596-4fbf-cb4f-8baebaae1189"
      },
      "execution_count": null,
      "outputs": [
        {
          "output_type": "stream",
          "name": "stdout",
          "text": [
            "enter the nameANISHA\n",
            "enter the roll no21\n",
            "enter the mark78\n",
            "name: ANISHA\n",
            "roll no: 21\n",
            "mark: 78\n"
          ]
        }
      ]
    },
    {
      "cell_type": "code",
      "source": [
        "#QUESTION 8\n",
        "for i in range (1,101):\n",
        "  if(i%5==0):\n",
        "    print(i,end=\" \")"
      ],
      "metadata": {
        "id": "wZGgwvwYlr7G",
        "colab": {
          "base_uri": "https://localhost:8080/"
        },
        "outputId": "74495a02-8013-4c97-e644-ec4a83056cb3"
      },
      "execution_count": null,
      "outputs": [
        {
          "output_type": "stream",
          "name": "stdout",
          "text": [
            "5 10 15 20 25 30 35 40 45 50 55 60 65 70 75 80 85 90 95 100 "
          ]
        }
      ]
    },
    {
      "cell_type": "code",
      "source": [
        "#QUESTION 10\n",
        "n=int(input('enter the number:'))\n",
        "\n",
        "if n>1:\n",
        "  for i in range(2,n):\n",
        "    if n%i==0:\n",
        "      print(n,'not a prime number')\n",
        "      break\n",
        "  else:\n",
        "    print(n,'is a prime number')\n",
        "else:\n",
        "  print(n,'is not a prime number')"
      ],
      "metadata": {
        "id": "kSeRe_IRnb28"
      },
      "execution_count": null,
      "outputs": []
    },
    {
      "cell_type": "code",
      "source": [],
      "metadata": {
        "id": "y_3YroZxp3-T"
      },
      "execution_count": null,
      "outputs": []
    }
  ]
}